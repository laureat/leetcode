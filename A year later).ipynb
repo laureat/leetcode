{
 "cells": [
  {
   "cell_type": "code",
   "execution_count": 199,
   "metadata": {},
   "outputs": [
    {
     "name": "stdout",
     "output_type": "stream",
     "text": [
      "Enter your sentence: \n"
     ]
    }
   ],
   "source": []
  },
  {
   "cell_type": "code",
   "execution_count": 204,
   "metadata": {},
   "outputs": [
    {
     "name": "stdout",
     "output_type": "stream",
     "text": [
      "\n"
     ]
    },
    {
     "data": {
      "text/plain": [
       "'Python give her the best Credentials,Cinema, and Ruby'"
      ]
     },
     "execution_count": 204,
     "metadata": {},
     "output_type": "execute_result"
    }
   ],
   "source": [
    "text = input(\"Enter your sentence: \")\n",
    "\n",
    "\n",
    "if text!='':\n",
    "    if text.count('or')==1:\n",
    "        let='or'\n",
    "    elif text.count('and')==1:\n",
    "        let='and'\n",
    "    \n",
    "    l=text.split(let)[0]\n",
    "    r=text.split(let)[1]\n",
    "    \n",
    "    m=l.split()\n",
    "    \n",
    "    if len(m)==1:\n",
    "        l=l.replace(\",\",\"\")\n",
    "        sentence = l + let + r \n",
    "\n",
    "    if len(m)>1:\n",
    "        if m[-1].count(',')==0:\n",
    "            m[-1]=m[-1]+','\n",
    "            l=' '.join(m[:-1])+''.join(m[-1])\n",
    "            sentence = l + \" \"+ let + r \n",
    "    else:\n",
    "        sentence = l + let + r \n",
    "else:\n",
    "    print(text)\n",
    "sentence"
   ]
  },
  {
   "cell_type": "code",
   "execution_count": 181,
   "metadata": {},
   "outputs": [],
   "source": [
    "\n",
    "    \n",
    "\n",
    "\n",
    "\n",
    "\n",
    "    \n",
    "sentence"
   ]
  },
  {
   "cell_type": "code",
   "execution_count": 4,
   "metadata": {},
   "outputs": [
    {
     "name": "stdout",
     "output_type": "stream",
     "text": [
      "1\n",
      "2\n",
      "3\n",
      "4\n",
      "this is the last one  4\n"
     ]
    }
   ],
   "source": [
    "for j in range(1,5):\n",
    "    print(j)\n",
    "print(\"this is the last one \",j)"
   ]
  },
  {
   "cell_type": "code",
   "execution_count": null,
   "metadata": {},
   "outputs": [],
   "source": []
  },
  {
   "cell_type": "code",
   "execution_count": 218,
   "metadata": {},
   "outputs": [],
   "source": [
    "def drop_zero(m):\n",
    "    l=len(m)\n",
    "    i=0\n",
    "    while m[l-1-i]=='0':\n",
    "        if i==l:\n",
    "            break\n",
    "        i+=1\n",
    "    \n",
    "    return m[:l-i]"
   ]
  },
  {
   "cell_type": "code",
   "execution_count": 269,
   "metadata": {},
   "outputs": [],
   "source": [
    "def reverse(x,sign=False):\n",
    "    x=int(float(x))\n",
    "    x=[d for d in str(x)]\n",
    "    \n",
    "    if x[0]=='-':\n",
    "        x.remove('-')\n",
    "        sign=True\n",
    "\n",
    "    \n",
    "    x=drop_zero(x)\n",
    "    \n",
    "    if x==[]:\n",
    "        return 0\n",
    "\n",
    "    \n",
    "    l=len(x)\n",
    "    m=[]\n",
    "\n",
    "    for i in range(l):\n",
    "        m.append(x[l-1-i])\n",
    "\n",
    "    \n",
    "    \n",
    "    num=int(''.join(m))\n",
    "    \n",
    "    if sign==True:\n",
    "        num=-num\n",
    "    \n",
    "    if not -(2**31)<=num<(2**31):\n",
    "        return 0\n",
    "    \n",
    "    return num \n"
   ]
  },
  {
   "cell_type": "code",
   "execution_count": 270,
   "metadata": {},
   "outputs": [
    {
     "name": "stdout",
     "output_type": "stream",
     "text": [
      "Pls enter signed integer: -123.0\n"
     ]
    }
   ],
   "source": [
    "x=input(\"Pls enter signed integer: \")"
   ]
  },
  {
   "cell_type": "code",
   "execution_count": 271,
   "metadata": {},
   "outputs": [
    {
     "data": {
      "text/plain": [
       "-321"
      ]
     },
     "execution_count": 271,
     "metadata": {},
     "output_type": "execute_result"
    }
   ],
   "source": [
    "reverse(x)"
   ]
  },
  {
   "cell_type": "code",
   "execution_count": 5,
   "metadata": {},
   "outputs": [],
   "source": [
    "import time"
   ]
  },
  {
   "cell_type": "code",
   "execution_count": 257,
   "metadata": {},
   "outputs": [
    {
     "name": "stdout",
     "output_type": "stream",
     "text": [
      "result is  -321  --- 8.630752563476562e-05 seconds ---\n"
     ]
    }
   ],
   "source": [
    "start_time = time.time()\n",
    "reverse(x)\n",
    "print(\"result is \",reverse(x), \" --- %s seconds ---\" % (time.time() - start_time))"
   ]
  },
  {
   "cell_type": "code",
   "execution_count": 237,
   "metadata": {},
   "outputs": [],
   "source": [
    "s=123"
   ]
  },
  {
   "cell_type": "code",
   "execution_count": 239,
   "metadata": {},
   "outputs": [
    {
     "data": {
      "text/plain": [
       "['1', '2', '3']"
      ]
     },
     "execution_count": 239,
     "metadata": {},
     "output_type": "execute_result"
    }
   ],
   "source": [
    "[d for d in str(s)]"
   ]
  },
  {
   "cell_type": "code",
   "execution_count": 128,
   "metadata": {},
   "outputs": [],
   "source": [
    "p=reverse(x)"
   ]
  },
  {
   "cell_type": "code",
   "execution_count": 116,
   "metadata": {},
   "outputs": [
    {
     "data": {
      "text/plain": [
       "int"
      ]
     },
     "execution_count": 116,
     "metadata": {},
     "output_type": "execute_result"
    }
   ],
   "source": [
    "type(p)"
   ]
  },
  {
   "cell_type": "code",
   "execution_count": 258,
   "metadata": {},
   "outputs": [],
   "source": [
    "x=['1','2','3']"
   ]
  },
  {
   "cell_type": "code",
   "execution_count": 259,
   "metadata": {},
   "outputs": [],
   "source": [
    "l=len(x)\n",
    "m=[]\n",
    "\n",
    "for i in range(l):\n",
    "    m.append(x[l-1-i])"
   ]
  },
  {
   "cell_type": "code",
   "execution_count": 262,
   "metadata": {},
   "outputs": [
    {
     "data": {
      "text/plain": [
       "321"
      ]
     },
     "execution_count": 262,
     "metadata": {},
     "output_type": "execute_result"
    }
   ],
   "source": [
    "int(''.join(m))"
   ]
  },
  {
   "cell_type": "code",
   "execution_count": null,
   "metadata": {},
   "outputs": [],
   "source": [
    "def reverse(x):\n",
    "    "
   ]
  },
  {
   "cell_type": "code",
   "execution_count": 272,
   "metadata": {},
   "outputs": [
    {
     "data": {
      "text/plain": [
       "0"
      ]
     },
     "execution_count": 272,
     "metadata": {},
     "output_type": "execute_result"
    }
   ],
   "source": [
    "1520 %10"
   ]
  },
  {
   "cell_type": "code",
   "execution_count": 273,
   "metadata": {},
   "outputs": [
    {
     "data": {
      "text/plain": [
       "2"
      ]
     },
     "execution_count": 273,
     "metadata": {},
     "output_type": "execute_result"
    }
   ],
   "source": [
    "152%10"
   ]
  },
  {
   "cell_type": "code",
   "execution_count": 1,
   "metadata": {},
   "outputs": [],
   "source": [
    "## Factorial"
   ]
  },
  {
   "cell_type": "code",
   "execution_count": 8,
   "metadata": {},
   "outputs": [],
   "source": [
    "def factorial_my(n):\n",
    "    if n==0:\n",
    "        return 1\n",
    "    return n*factorial(n-1)"
   ]
  },
  {
   "cell_type": "code",
   "execution_count": 4,
   "metadata": {},
   "outputs": [
    {
     "data": {
      "text/plain": [
       "24"
      ]
     },
     "execution_count": 4,
     "metadata": {},
     "output_type": "execute_result"
    }
   ],
   "source": [
    "factorial(4)"
   ]
  },
  {
   "cell_type": "code",
   "execution_count": 6,
   "metadata": {},
   "outputs": [
    {
     "name": "stdout",
     "output_type": "stream",
     "text": [
      "result is  1220136825991110068701238785423046926253574342803192842192413588385845373153881997605496447502203281863013616477148203584163378722078177200480785205159329285477907571939330603772960859086270429174547882424912726344305670173270769461062802310452644218878789465754777149863494367781037644274033827365397471386477878495438489595537537990423241061271326984327745715546309977202781014561081188373709531016356324432987029563896628911658974769572087926928871281780070265174507768410719624390394322536422605234945850129918571501248706961568141625359056693423813008856249246891564126775654481886506593847951775360894005745238940335798476363944905313062323749066445048824665075946735862074637925184200459369692981022263971952597190945217823331756934581508552332820762820023402626907898342451712006207714640979456116127629145951237229913340169552363850942885592018727433795173014586357570828355780158735432768888680120399882384702151467605445407663535984174430480128938313896881639487469658817504506926365338175055478128640000000000000000000000000000000000000000000000000000000000000000000000000000000000000000000000000000000000000000000000000000  --- 0.0005292892456054688 seconds ---\n"
     ]
    }
   ],
   "source": [
    "start_time = time.time()\n",
    "print(\"result is \",factorial(500), \" --- %s seconds ---\" % (time.time() - start_time))"
   ]
  },
  {
   "cell_type": "code",
   "execution_count": 7,
   "metadata": {},
   "outputs": [],
   "source": [
    "from math import factorial"
   ]
  },
  {
   "cell_type": "code",
   "execution_count": 9,
   "metadata": {},
   "outputs": [
    {
     "name": "stdout",
     "output_type": "stream",
     "text": [
      "result is  1220136825991110068701238785423046926253574342803192842192413588385845373153881997605496447502203281863013616477148203584163378722078177200480785205159329285477907571939330603772960859086270429174547882424912726344305670173270769461062802310452644218878789465754777149863494367781037644274033827365397471386477878495438489595537537990423241061271326984327745715546309977202781014561081188373709531016356324432987029563896628911658974769572087926928871281780070265174507768410719624390394322536422605234945850129918571501248706961568141625359056693423813008856249246891564126775654481886506593847951775360894005745238940335798476363944905313062323749066445048824665075946735862074637925184200459369692981022263971952597190945217823331756934581508552332820762820023402626907898342451712006207714640979456116127629145951237229913340169552363850942885592018727433795173014586357570828355780158735432768888680120399882384702151467605445407663535984174430480128938313896881639487469658817504506926365338175055478128640000000000000000000000000000000000000000000000000000000000000000000000000000000000000000000000000000000000000000000000000000  --- 8.726119995117188e-05 seconds ---\n"
     ]
    }
   ],
   "source": [
    "start_time = time.time()\n",
    "print(\"result is \",factorial(500), \" --- %s seconds ---\" % (time.time() - start_time))"
   ]
  },
  {
   "cell_type": "code",
   "execution_count": null,
   "metadata": {},
   "outputs": [],
   "source": []
  },
  {
   "cell_type": "code",
   "execution_count": null,
   "metadata": {},
   "outputs": [],
   "source": []
  },
  {
   "cell_type": "code",
   "execution_count": null,
   "metadata": {},
   "outputs": [],
   "source": []
  },
  {
   "cell_type": "code",
   "execution_count": null,
   "metadata": {},
   "outputs": [],
   "source": []
  },
  {
   "cell_type": "code",
   "execution_count": null,
   "metadata": {},
   "outputs": [],
   "source": []
  },
  {
   "cell_type": "code",
   "execution_count": 1,
   "metadata": {},
   "outputs": [],
   "source": [
    "# finding maximum-subarray"
   ]
  },
  {
   "cell_type": "code",
   "execution_count": 17,
   "metadata": {},
   "outputs": [],
   "source": [
    "def brute_force_find_maximum_subarray(A):\n",
    "    n=len(A)\n",
    "    max_sum=float('-inf')\n",
    "    for l in range(n):\n",
    "        sum = 0\n",
    "        for h in range(l,n):\n",
    "            sum=sum+A[h]\n",
    "            if sum>max_sum:\n",
    "                max_sum=sum\n",
    "                low=l\n",
    "                high=h\n",
    "    \n",
    "    return low,high,max_sum"
   ]
  },
  {
   "cell_type": "code",
   "execution_count": 18,
   "metadata": {},
   "outputs": [],
   "source": [
    "c=[-1,2,3,-4]"
   ]
  },
  {
   "cell_type": "code",
   "execution_count": 19,
   "metadata": {},
   "outputs": [
    {
     "data": {
      "text/plain": [
       "(1, 2, 5)"
      ]
     },
     "execution_count": 19,
     "metadata": {},
     "output_type": "execute_result"
    }
   ],
   "source": [
    "brute_force_find_maximum_subarray(c)"
   ]
  },
  {
   "cell_type": "code",
   "execution_count": 20,
   "metadata": {},
   "outputs": [],
   "source": [
    "# squares of a sorted array"
   ]
  },
  {
   "cell_type": "code",
   "execution_count": 23,
   "metadata": {},
   "outputs": [],
   "source": [
    "# my trial\n",
    "def merge(arr,l,m,r):\n",
    "    sort_arr=[]\n",
    "    \n",
    "    s_1=m-l+1\n",
    "    s_2=r-m\n",
    "    j=0\n",
    "    \n",
    "    for i in range(s_1):\n",
    "        while arr[l+i]>arr[m+1+j]:\n",
    "            if j<s_2:\n",
    "                sort_arr.append(arr[m+j+1])\n",
    "                j+=1\n",
    "            if j==s_2:\n",
    "                sort_arr.append(arr[m+j+1])\n",
    "                break\n",
    "        \n",
    "        sort_arr.append(arr[l+i])\n",
    "    \n",
    "    if j!=s_2:\n",
    "        sort_arr=sort_arr+arr[m+j+1:m+s_2+1]\n",
    "    \n",
    "    return sort_arr\n",
    "        "
   ]
  },
  {
   "cell_type": "code",
   "execution_count": 28,
   "metadata": {},
   "outputs": [],
   "source": [
    "# solution from geeksforgeeks\n",
    "def merge(arr, l, m, r): \n",
    "    n1 = m - l + 1\n",
    "    n2 = r - m \n",
    "  \n",
    "    L = [0] * (n1) \n",
    "    R = [0] * (n2) \n",
    "  \n",
    "    for i in range(0 , n1): \n",
    "        L[i] = arr[l + i] \n",
    "  \n",
    "    for j in range(0 , n2): \n",
    "        R[j] = arr[m + 1 + j] \n",
    "  \n",
    "    i = 0     # Initial index of first subarray \n",
    "    j = 0     # Initial index of second subarray \n",
    "    k = l     # Initial index of merged subarray \n",
    "  \n",
    "    while i < n1 and j < n2 : \n",
    "        if L[i] <= R[j]: \n",
    "            arr[k] = L[i] \n",
    "            i += 1\n",
    "        else: \n",
    "            arr[k] = R[j] \n",
    "            j += 1\n",
    "        k += 1\n",
    "  \n",
    "    while i < n1: \n",
    "        arr[k] = L[i] \n",
    "        i += 1\n",
    "        k += 1\n",
    "  \n",
    "    while j < n2: \n",
    "        arr[k] = R[j] \n",
    "        j += 1\n",
    "        k += 1\n",
    "    return arr"
   ]
  },
  {
   "cell_type": "code",
   "execution_count": 75,
   "metadata": {},
   "outputs": [],
   "source": [
    "def sortedSquares(A):  \n",
    "    \n",
    "    # merge from Kormen\n",
    "    def merge(arr,l,m,r):\n",
    "\n",
    "        # sizes of arrays\n",
    "        n_1=m-l+1   \n",
    "        n_2=r-m\n",
    "\n",
    "        # creating new arrays for each subarray\n",
    "        L=[]\n",
    "        for i in range(n_1):\n",
    "            L.append(arr[l+i])\n",
    "            i+=1\n",
    "\n",
    "        R=[]\n",
    "        for j in range(n_2):\n",
    "            R.append(arr[m+1+j])\n",
    "            j+=1\n",
    "\n",
    "        L.append(float('inf'))\n",
    "        R.append(float('inf'))\n",
    "\n",
    "        i=0\n",
    "        j=0\n",
    "\n",
    "        for k in range(l,r+1):\n",
    "            if L[i]<=R[j]:\n",
    "                arr[k]=L[i]\n",
    "                i+=1\n",
    "            else:\n",
    "                arr[k]=R[j]\n",
    "                j+=1\n",
    "\n",
    "        return arr\n",
    "\n",
    "    def merge_sort(A,p,r):\n",
    "        if p<r:\n",
    "            q=int((p+r)/2)\n",
    "            merge_sort(A,p,q)\n",
    "            merge_sort(A,q+1,r)\n",
    "            return merge(A,p,q,r)\n",
    "        \n",
    "        return A\n",
    "\n",
    "\n",
    "    h=len(A)\n",
    "\n",
    "    for s in range(h):\n",
    "        A[s]=A[s]**2\n",
    "\n",
    "    return merge_sort(A,0,len(A)-1)"
   ]
  },
  {
   "cell_type": "code",
   "execution_count": null,
   "metadata": {},
   "outputs": [],
   "source": []
  },
  {
   "cell_type": "code",
   "execution_count": null,
   "metadata": {},
   "outputs": [],
   "source": []
  },
  {
   "cell_type": "code",
   "execution_count": null,
   "metadata": {},
   "outputs": [],
   "source": [
    "ITERATIVE-FIND-MAXIMUM-SUBARRAY(A)\n",
    "    n = A.length\n",
    "    max-sum = -∞\n",
    "    sum = -∞\n",
    "    for j = 1 to n\n",
    "        currentHigh = j\n",
    "        if sum > 0\n",
    "            sum = sum + A[j]\n",
    "        else\n",
    "            currentLow = j\n",
    "            sum = A[j]\n",
    "        if sum > max-sum\n",
    "            max-sum = sum\n",
    "            low = currentLow\n",
    "            high = currentHigh\n",
    "    return (low, high, max-sum)"
   ]
  },
  {
   "cell_type": "code",
   "execution_count": 3,
   "metadata": {},
   "outputs": [],
   "source": [
    "def iterative_find_max_subarray(a):\n",
    "    \n",
    "    n=len(a)\n",
    "    max_sum=float('-inf')\n",
    "    curr_sum=float('-inf')\n",
    "    \n",
    "    for j in range(n):\n",
    "        \n",
    "        currentHigh=j\n",
    "        \n",
    "        # 1) sum can be still positive and be greater even if accounted for negatives [100,-20,21]\n",
    "        # 2) if the sum overcomes max_sum, then new low and high recorded\n",
    "        \n",
    "        if curr_sum>0:\n",
    "            curr_sum+=a[j]\n",
    "            \n",
    "        # if we get negative or 0 sum, we record new curr_low and the sum is last element's value\n",
    "        else:\n",
    "            currentLow=j\n",
    "            curr_sum=a[j]\n",
    "        \n",
    "        # always check this one condition to account for max_sum\n",
    "        \n",
    "        if curr_sum>max_sum:\n",
    "            max_sum=curr_sum\n",
    "            low=currentLow\n",
    "            high=currentHigh\n",
    "    \n",
    "    return (low,high,max_sum)"
   ]
  },
  {
   "cell_type": "code",
   "execution_count": 4,
   "metadata": {},
   "outputs": [
    {
     "data": {
      "text/plain": [
       "(0, 2, 101)"
      ]
     },
     "execution_count": 4,
     "metadata": {},
     "output_type": "execute_result"
    }
   ],
   "source": [
    "c=[100,-20,21]\n",
    "iterative_find_max_subarray(c)"
   ]
  },
  {
   "cell_type": "code",
   "execution_count": 5,
   "metadata": {},
   "outputs": [
    {
     "data": {
      "text/plain": [
       "(1, 1, 0)"
      ]
     },
     "execution_count": 5,
     "metadata": {},
     "output_type": "execute_result"
    }
   ],
   "source": [
    "d=[-10,0,-11,-11]\n",
    "iterative_find_max_subarray(d)"
   ]
  },
  {
   "cell_type": "code",
   "execution_count": 1,
   "metadata": {},
   "outputs": [],
   "source": [
    "# alternative solutions"
   ]
  },
  {
   "cell_type": "code",
   "execution_count": 2,
   "metadata": {},
   "outputs": [],
   "source": [
    "a=[-7,-6,-1,0,7,9]"
   ]
  },
  {
   "cell_type": "code",
   "execution_count": 5,
   "metadata": {},
   "outputs": [
    {
     "data": {
      "text/plain": [
       "[0, 1, 36, 49, 49, 81]"
      ]
     },
     "execution_count": 5,
     "metadata": {},
     "output_type": "execute_result"
    }
   ],
   "source": [
    "sorted(x**2 for x in a)"
   ]
  },
  {
   "cell_type": "code",
   "execution_count": 1,
   "metadata": {},
   "outputs": [],
   "source": [
    "# kids with greatest number of candies"
   ]
  },
  {
   "cell_type": "code",
   "execution_count": 9,
   "metadata": {},
   "outputs": [],
   "source": [
    "def find_max(a):\n",
    "    l=len(a)\n",
    "    greatest=a[0]\n",
    "    \n",
    "    if l==1:\n",
    "        return greatest\n",
    "    else:\n",
    "        for i in range(1,l):\n",
    "            if a[i]>greatest:\n",
    "                greatest=a[i]\n",
    "    \n",
    "    return greatest"
   ]
  },
  {
   "cell_type": "code",
   "execution_count": 16,
   "metadata": {},
   "outputs": [],
   "source": [
    "def kidsWithCandies(candies, extraCandies):\n",
    "    \n",
    "    greatest=find_max(candies)\n",
    "    \n",
    "    lowest=greatest-extraCandies\n",
    "    p=len(candies)\n",
    "    \n",
    "    for i in range(p):\n",
    "        if candies[i]<lowest:\n",
    "            candies[i]=False\n",
    "        else:\n",
    "            candies[i]=True\n",
    "    return candies"
   ]
  },
  {
   "cell_type": "code",
   "execution_count": 17,
   "metadata": {},
   "outputs": [
    {
     "data": {
      "text/plain": [
       "[True, False, False, False, False]"
      ]
     },
     "execution_count": 17,
     "metadata": {},
     "output_type": "execute_result"
    }
   ],
   "source": [
    "candies= [4,2,1,1,2]\n",
    "extraCandies= 1\n",
    "\n",
    "kidsWithCandies(candies,extraCandies)"
   ]
  },
  {
   "cell_type": "code",
   "execution_count": 18,
   "metadata": {},
   "outputs": [
    {
     "data": {
      "text/plain": [
       "[True, False, True]"
      ]
     },
     "execution_count": 18,
     "metadata": {},
     "output_type": "execute_result"
    }
   ],
   "source": [
    "candies = [12,1,12] \n",
    "extraCandies = 10\n",
    "kidsWithCandies(candies,extraCandies)"
   ]
  },
  {
   "cell_type": "code",
   "execution_count": 19,
   "metadata": {},
   "outputs": [],
   "source": [
    "# defanging IP address"
   ]
  },
  {
   "cell_type": "code",
   "execution_count": 27,
   "metadata": {},
   "outputs": [],
   "source": [
    "def defangIPaddr(address):\n",
    "    ans=[]\n",
    "    for i in range(len(address)):\n",
    "        if address[i]=='.':\n",
    "            ans.append('[.]')\n",
    "        else:\n",
    "            ans.append(address[i])\n",
    "    \n",
    "    return \"\".join(ans)"
   ]
  },
  {
   "cell_type": "code",
   "execution_count": 28,
   "metadata": {},
   "outputs": [
    {
     "data": {
      "text/plain": [
       "'1[.]1[.]1[.]1'"
      ]
     },
     "execution_count": 28,
     "metadata": {},
     "output_type": "execute_result"
    }
   ],
   "source": [
    "address = \"1.1.1.1\"\n",
    "defangIPaddr(address)"
   ]
  },
  {
   "cell_type": "code",
   "execution_count": 29,
   "metadata": {},
   "outputs": [
    {
     "data": {
      "text/plain": [
       "'255[.]100[.]50[.]0'"
      ]
     },
     "execution_count": 29,
     "metadata": {},
     "output_type": "execute_result"
    }
   ],
   "source": [
    "address = \"255.100.50.0\"\n",
    "defangIPaddr(address)"
   ]
  },
  {
   "cell_type": "code",
   "execution_count": null,
   "metadata": {},
   "outputs": [],
   "source": [
    "# majority element"
   ]
  },
  {
   "cell_type": "code",
   "execution_count": 43,
   "metadata": {},
   "outputs": [],
   "source": [
    "def majority(arr):\n",
    "    tup={}\n",
    "\n",
    "    for i in range(len(arr)):\n",
    "        if arr[i] not in tup:\n",
    "            tup[arr[i]]=1\n",
    "        else:\n",
    "            tup[arr[i]]+=1\n",
    "    \n",
    "    x=int(len(arr)/2)\n",
    "    for key, value in tup.items():\n",
    "        if tup[key]>x:\n",
    "            return key\n",
    "    return tup"
   ]
  },
  {
   "cell_type": "code",
   "execution_count": null,
   "metadata": {},
   "outputs": [],
   "source": [
    "# think of how implement recursion here\n",
    "\n",
    "def majority(arr):\n",
    "    if len(arr)==1:\n",
    "        return arr[0]\n",
    "    else:\n",
    "        a=int(n/2)\n",
    "        b=n-a"
   ]
  },
  {
   "cell_type": "code",
   "execution_count": null,
   "metadata": {},
   "outputs": [],
   "source": []
  },
  {
   "cell_type": "code",
   "execution_count": null,
   "metadata": {},
   "outputs": [],
   "source": [
    "# maximum subarray"
   ]
  },
  {
   "cell_type": "code",
   "execution_count": 10,
   "metadata": {},
   "outputs": [],
   "source": [
    "def contiguous(arr):\n",
    "    res=[]\n",
    "    l=len(arr)\n",
    "    \n",
    "    for i in range(l-1):            \n",
    "        if arr[i]!=arr[i+1]-1:\n",
    "            res.append(arr[i])\n",
    "    \n",
    "    res.append(arr[l-1]) \n",
    "    \n",
    "    return res"
   ]
  },
  {
   "cell_type": "code",
   "execution_count": 7,
   "metadata": {},
   "outputs": [],
   "source": [
    "def positives(sarr):\n",
    "    pos=[]\n",
    "    \n",
    "    for i in range(len(sarr)):\n",
    "        if sarr[i]>0:\n",
    "            pos.append(i)\n",
    "    \n",
    "\n",
    "    \n",
    "    return pos"
   ]
  },
  {
   "cell_type": "code",
   "execution_count": 95,
   "metadata": {},
   "outputs": [],
   "source": [
    "def maxSubArray(nums):\n",
    "    \n",
    "    if len(nums)==1:\n",
    "        return nums[0]\n",
    "    \n",
    "    else:\n",
    "\n",
    "        d=positives(nums)\n",
    "        ind=contiguous(d)\n",
    "        \n",
    "        if len(ind)==1:\n",
    "            maxim=nums[ind[0]]\n",
    "        \n",
    "        else:\n",
    "            \n",
    "            maxim=nums[0]\n",
    "            k=len(ind)\n",
    "            seq=[]\n",
    "\n",
    "            for i in range(k):\n",
    "                j=i\n",
    "                while j<(k-1):\n",
    "                    if sum(nums[ind[i]:ind[j]+1])>maxim:\n",
    "                        maxim=sum(nums[ind[i]:ind[j]+1])\n",
    "\n",
    "                    j+=1\n",
    "            \n",
    "    return maxim\n",
    "    "
   ]
  },
  {
   "cell_type": "code",
   "execution_count": 99,
   "metadata": {},
   "outputs": [
    {
     "ename": "IndexError",
     "evalue": "list index out of range",
     "output_type": "error",
     "traceback": [
      "\u001b[0;31m---------------------------------------------------------------------------\u001b[0m",
      "\u001b[0;31mIndexError\u001b[0m                                Traceback (most recent call last)",
      "\u001b[0;32m<ipython-input-99-2bbf8fd5a48e>\u001b[0m in \u001b[0;36m<module>\u001b[0;34m()\u001b[0m\n\u001b[0;32m----> 1\u001b[0;31m \u001b[0mmaxSubArray\u001b[0m\u001b[0;34m(\u001b[0m\u001b[0;34m[\u001b[0m\u001b[0;34m-\u001b[0m\u001b[0;36m2\u001b[0m\u001b[0;34m,\u001b[0m\u001b[0;34m-\u001b[0m\u001b[0;36m1\u001b[0m\u001b[0;34m]\u001b[0m\u001b[0;34m)\u001b[0m\u001b[0;34m\u001b[0m\u001b[0m\n\u001b[0m",
      "\u001b[0;32m<ipython-input-95-9815d62fb3dd>\u001b[0m in \u001b[0;36mmaxSubArray\u001b[0;34m(nums)\u001b[0m\n\u001b[1;32m      7\u001b[0m \u001b[0;34m\u001b[0m\u001b[0m\n\u001b[1;32m      8\u001b[0m         \u001b[0md\u001b[0m\u001b[0;34m=\u001b[0m\u001b[0mpositives\u001b[0m\u001b[0;34m(\u001b[0m\u001b[0mnums\u001b[0m\u001b[0;34m)\u001b[0m\u001b[0;34m\u001b[0m\u001b[0m\n\u001b[0;32m----> 9\u001b[0;31m         \u001b[0mind\u001b[0m\u001b[0;34m=\u001b[0m\u001b[0mcontiguous\u001b[0m\u001b[0;34m(\u001b[0m\u001b[0md\u001b[0m\u001b[0;34m)\u001b[0m\u001b[0;34m\u001b[0m\u001b[0m\n\u001b[0m\u001b[1;32m     10\u001b[0m \u001b[0;34m\u001b[0m\u001b[0m\n\u001b[1;32m     11\u001b[0m         \u001b[0mmaxim\u001b[0m\u001b[0;34m=\u001b[0m\u001b[0mnums\u001b[0m\u001b[0;34m[\u001b[0m\u001b[0;36m0\u001b[0m\u001b[0;34m]\u001b[0m\u001b[0;34m\u001b[0m\u001b[0m\n",
      "\u001b[0;32m<ipython-input-10-edd2c1654081>\u001b[0m in \u001b[0;36mcontiguous\u001b[0;34m(arr)\u001b[0m\n\u001b[1;32m      7\u001b[0m             \u001b[0mres\u001b[0m\u001b[0;34m.\u001b[0m\u001b[0mappend\u001b[0m\u001b[0;34m(\u001b[0m\u001b[0marr\u001b[0m\u001b[0;34m[\u001b[0m\u001b[0mi\u001b[0m\u001b[0;34m]\u001b[0m\u001b[0;34m)\u001b[0m\u001b[0;34m\u001b[0m\u001b[0m\n\u001b[1;32m      8\u001b[0m \u001b[0;34m\u001b[0m\u001b[0m\n\u001b[0;32m----> 9\u001b[0;31m     \u001b[0mres\u001b[0m\u001b[0;34m.\u001b[0m\u001b[0mappend\u001b[0m\u001b[0;34m(\u001b[0m\u001b[0marr\u001b[0m\u001b[0;34m[\u001b[0m\u001b[0ml\u001b[0m\u001b[0;34m-\u001b[0m\u001b[0;36m1\u001b[0m\u001b[0;34m]\u001b[0m\u001b[0;34m)\u001b[0m\u001b[0;34m\u001b[0m\u001b[0m\n\u001b[0m\u001b[1;32m     10\u001b[0m \u001b[0;34m\u001b[0m\u001b[0m\n\u001b[1;32m     11\u001b[0m     \u001b[0;32mreturn\u001b[0m \u001b[0mres\u001b[0m\u001b[0;34m\u001b[0m\u001b[0m\n",
      "\u001b[0;31mIndexError\u001b[0m: list index out of range"
     ]
    }
   ],
   "source": [
    "maxSubArray([-2,-1])"
   ]
  },
  {
   "cell_type": "code",
   "execution_count": 97,
   "metadata": {},
   "outputs": [
    {
     "data": {
      "text/plain": [
       "[1]"
      ]
     },
     "execution_count": 97,
     "metadata": {},
     "output_type": "execute_result"
    }
   ],
   "source": [
    "nums=[-2,1]\n",
    "d=positives(nums)\n",
    "d"
   ]
  },
  {
   "cell_type": "code",
   "execution_count": 98,
   "metadata": {},
   "outputs": [
    {
     "data": {
      "text/plain": [
       "[1]"
      ]
     },
     "execution_count": 98,
     "metadata": {},
     "output_type": "execute_result"
    }
   ],
   "source": [
    "ind=contiguous(d)\n",
    "ind"
   ]
  },
  {
   "cell_type": "code",
   "execution_count": null,
   "metadata": {},
   "outputs": [],
   "source": []
  }
 ],
 "metadata": {
  "kernelspec": {
   "display_name": "Python 3",
   "language": "python",
   "name": "python3"
  },
  "language_info": {
   "codemirror_mode": {
    "name": "ipython",
    "version": 3
   },
   "file_extension": ".py",
   "mimetype": "text/x-python",
   "name": "python",
   "nbconvert_exporter": "python",
   "pygments_lexer": "ipython3",
   "version": "3.7.0"
  }
 },
 "nbformat": 4,
 "nbformat_minor": 2
}
